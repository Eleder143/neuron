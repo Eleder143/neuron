{
 "cells": [
  {
   "cell_type": "code",
   "execution_count": 1,
   "metadata": {},
   "outputs": [],
   "source": [
    "# imports\n",
    "from PIL import Image\n",
    "import numpy as np\n",
    "import pandas as pd\n",
    "import os\n",
    "from keras.models import Sequential\n",
    "from keras.layers import Dense\n",
    "from keras.utils import to_categorical\n",
    "from keras.callbacks import EarlyStopping\n"
   ]
  },
  {
   "cell_type": "code",
   "execution_count": 2,
   "metadata": {},
   "outputs": [],
   "source": [
    "# load dataset\n",
    "numbers = [2, 3, 4]\n",
    "pics = 200\n",
    "image_arrays = []\n",
    "for i in numbers:\n",
    "    for j in range(pics):\n",
    "        file_path = os.path.join('dataset', str(i), f'{i}_{j}.png')\n",
    "        if os.path.exists(file_path):\n",
    "            image = Image.open(file_path)\n",
    "            image_array = np.array(image)\n",
    "            image_array_red_channel= image_array[:, :, 0]\n",
    "            image_array_red_channel = image_array_red_channel.flatten()\n",
    "            image_arrays.append(image_array_red_channel)\n",
    "\n",
    "number = []\n",
    "for i in numbers:\n",
    "    for j in range(pics):\n",
    "        number.append(i)\n",
    "\n",
    "df = pd.DataFrame(image_arrays)\n",
    "df=df/255\n",
    "df['number'] = number\n"
   ]
  },
  {
   "cell_type": "code",
   "execution_count": 48,
   "metadata": {},
   "outputs": [],
   "source": [
    "# train and test split\n",
    "df_random = df.sample(frac=1, random_state=22)\n",
    "split = int(0.7*len(df_random))\n",
    "df_train = df_random.iloc[:split]\n",
    "df_test = df_random.iloc[split:]\n",
    "\n",
    "x_train = df_train.drop('number', axis=1).values\n",
    "y_train = df_train['number'].values\n",
    "y_train_encoded = to_categorical(y_train-2)\n",
    "x_test = df_test.drop('number', axis=1).values\n",
    "y_test = df_test['number'].values\n",
    "y_test_encoded = to_categorical(y_test-2)\n"
   ]
  },
  {
   "cell_type": "code",
   "execution_count": 64,
   "metadata": {},
   "outputs": [],
   "source": [
    "# model\n",
    "model = Sequential()\n",
    "model.add(Dense(32, input_dim=x_train.shape[1], activation='relu'))  # Input layer\n",
    "model.add(Dense(16, activation='relu'))  # Hidden layer\n",
    "model.add(Dense(3, activation='softmax'))  # Output layer\n",
    "\n",
    "# Compile the model\n",
    "model.compile(loss='categorical_crossentropy', optimizer='adam', metrics=['accuracy', 'Precision', 'Recall'])"
   ]
  },
  {
   "cell_type": "code",
   "execution_count": 65,
   "metadata": {},
   "outputs": [
    {
     "name": "stdout",
     "output_type": "stream",
     "text": [
      "Epoch 1/200\n"
     ]
    },
    {
     "name": "stdout",
     "output_type": "stream",
     "text": [
      "35/35 [==============================] - 1s 6ms/step - loss: 1.0111 - accuracy: 0.5071 - precision: 0.5867 - recall: 0.2095 - val_loss: 0.8378 - val_accuracy: 0.6611 - val_precision: 0.7545 - val_recall: 0.4611\n",
      "Epoch 2/200\n",
      "35/35 [==============================] - 0s 2ms/step - loss: 0.6965 - accuracy: 0.7452 - precision: 0.8449 - recall: 0.6357 - val_loss: 0.6482 - val_accuracy: 0.7556 - val_precision: 0.8403 - val_recall: 0.6722\n",
      "Epoch 3/200\n",
      "35/35 [==============================] - 0s 2ms/step - loss: 0.5410 - accuracy: 0.8000 - precision: 0.8462 - recall: 0.7595 - val_loss: 0.5650 - val_accuracy: 0.8167 - val_precision: 0.8500 - val_recall: 0.7556\n",
      "Epoch 4/200\n",
      "35/35 [==============================] - 0s 2ms/step - loss: 0.4888 - accuracy: 0.8381 - precision: 0.8692 - recall: 0.8071 - val_loss: 0.5617 - val_accuracy: 0.8444 - val_precision: 0.8488 - val_recall: 0.8111\n",
      "Epoch 5/200\n",
      "35/35 [==============================] - 0s 2ms/step - loss: 0.4043 - accuracy: 0.8762 - precision: 0.8995 - recall: 0.8524 - val_loss: 0.4351 - val_accuracy: 0.8333 - val_precision: 0.8466 - val_recall: 0.8278\n",
      "Epoch 6/200\n",
      "35/35 [==============================] - 0s 2ms/step - loss: 0.3592 - accuracy: 0.8762 - precision: 0.8916 - recall: 0.8619 - val_loss: 0.4700 - val_accuracy: 0.8611 - val_precision: 0.8571 - val_recall: 0.8333\n",
      "Epoch 7/200\n",
      "35/35 [==============================] - 0s 2ms/step - loss: 0.3344 - accuracy: 0.8857 - precision: 0.9020 - recall: 0.8762 - val_loss: 0.4029 - val_accuracy: 0.8500 - val_precision: 0.8588 - val_recall: 0.8444\n",
      "Epoch 8/200\n",
      "35/35 [==============================] - 0s 2ms/step - loss: 0.2761 - accuracy: 0.9071 - precision: 0.9195 - recall: 0.8976 - val_loss: 0.3785 - val_accuracy: 0.8444 - val_precision: 0.8636 - val_recall: 0.8444\n",
      "Epoch 9/200\n",
      "35/35 [==============================] - 0s 2ms/step - loss: 0.2864 - accuracy: 0.8952 - precision: 0.9198 - recall: 0.8738 - val_loss: 0.3739 - val_accuracy: 0.8556 - val_precision: 0.8693 - val_recall: 0.8500\n",
      "Epoch 10/200\n",
      "35/35 [==============================] - 0s 2ms/step - loss: 0.2540 - accuracy: 0.9262 - precision: 0.9300 - recall: 0.9167 - val_loss: 0.3652 - val_accuracy: 0.8722 - val_precision: 0.8908 - val_recall: 0.8611\n",
      "Epoch 11/200\n",
      "35/35 [==============================] - 0s 2ms/step - loss: 0.2453 - accuracy: 0.9071 - precision: 0.9150 - recall: 0.8976 - val_loss: 0.3521 - val_accuracy: 0.8722 - val_precision: 0.8953 - val_recall: 0.8556\n",
      "Epoch 12/200\n",
      "35/35 [==============================] - 0s 2ms/step - loss: 0.2060 - accuracy: 0.9357 - precision: 0.9490 - recall: 0.9310 - val_loss: 0.4066 - val_accuracy: 0.8722 - val_precision: 0.8715 - val_recall: 0.8667\n",
      "Epoch 13/200\n",
      "35/35 [==============================] - 0s 2ms/step - loss: 0.1962 - accuracy: 0.9381 - precision: 0.9490 - recall: 0.9310 - val_loss: 0.3455 - val_accuracy: 0.8611 - val_precision: 0.8708 - val_recall: 0.8611\n",
      "Epoch 14/200\n",
      "35/35 [==============================] - 0s 2ms/step - loss: 0.1583 - accuracy: 0.9548 - precision: 0.9660 - recall: 0.9476 - val_loss: 0.3585 - val_accuracy: 0.8778 - val_precision: 0.8827 - val_recall: 0.8778\n",
      "Epoch 15/200\n",
      "35/35 [==============================] - 0s 2ms/step - loss: 0.1506 - accuracy: 0.9500 - precision: 0.9566 - recall: 0.9452 - val_loss: 0.4016 - val_accuracy: 0.8722 - val_precision: 0.8864 - val_recall: 0.8667\n",
      "Epoch 16/200\n",
      "35/35 [==============================] - 0s 2ms/step - loss: 0.1912 - accuracy: 0.9381 - precision: 0.9490 - recall: 0.9310 - val_loss: 0.5662 - val_accuracy: 0.8500 - val_precision: 0.8563 - val_recall: 0.8278\n",
      "Epoch 17/200\n",
      "35/35 [==============================] - 0s 2ms/step - loss: 0.1657 - accuracy: 0.9333 - precision: 0.9395 - recall: 0.9238 - val_loss: 0.3604 - val_accuracy: 0.8944 - val_precision: 0.8939 - val_recall: 0.8889\n",
      "Epoch 18/200\n",
      "35/35 [==============================] - 0s 2ms/step - loss: 0.1498 - accuracy: 0.9571 - precision: 0.9569 - recall: 0.9524 - val_loss: 0.3069 - val_accuracy: 0.8944 - val_precision: 0.9040 - val_recall: 0.8889\n",
      "Epoch 19/200\n",
      "35/35 [==============================] - 0s 2ms/step - loss: 0.1287 - accuracy: 0.9595 - precision: 0.9593 - recall: 0.9548 - val_loss: 0.4667 - val_accuracy: 0.8222 - val_precision: 0.8258 - val_recall: 0.8167\n",
      "Epoch 20/200\n",
      "35/35 [==============================] - 0s 2ms/step - loss: 0.1385 - accuracy: 0.9452 - precision: 0.9472 - recall: 0.9405 - val_loss: 0.3693 - val_accuracy: 0.8611 - val_precision: 0.8743 - val_recall: 0.8500\n",
      "Epoch 21/200\n",
      "35/35 [==============================] - 0s 2ms/step - loss: 0.1243 - accuracy: 0.9643 - precision: 0.9664 - recall: 0.9595 - val_loss: 0.3038 - val_accuracy: 0.8944 - val_precision: 0.9045 - val_recall: 0.8944\n",
      "Epoch 22/200\n",
      "35/35 [==============================] - 0s 2ms/step - loss: 0.0757 - accuracy: 0.9810 - precision: 0.9810 - recall: 0.9810 - val_loss: 0.3100 - val_accuracy: 0.8833 - val_precision: 0.8983 - val_recall: 0.8833\n",
      "Epoch 23/200\n",
      "35/35 [==============================] - 0s 2ms/step - loss: 0.0653 - accuracy: 0.9881 - precision: 0.9905 - recall: 0.9881 - val_loss: 0.3095 - val_accuracy: 0.8889 - val_precision: 0.8933 - val_recall: 0.8833\n",
      "Epoch 24/200\n",
      "35/35 [==============================] - 0s 2ms/step - loss: 0.0595 - accuracy: 0.9952 - precision: 0.9976 - recall: 0.9952 - val_loss: 0.3191 - val_accuracy: 0.9000 - val_precision: 0.9045 - val_recall: 0.8944\n",
      "Epoch 25/200\n",
      "35/35 [==============================] - 0s 2ms/step - loss: 0.0515 - accuracy: 0.9976 - precision: 1.0000 - recall: 0.9976 - val_loss: 0.3124 - val_accuracy: 0.9000 - val_precision: 0.9050 - val_recall: 0.9000\n",
      "Epoch 26/200\n",
      "35/35 [==============================] - 0s 2ms/step - loss: 0.0524 - accuracy: 0.9952 - precision: 0.9952 - recall: 0.9929 - val_loss: 0.3228 - val_accuracy: 0.8833 - val_precision: 0.8883 - val_recall: 0.8833\n",
      "Epoch 27/200\n",
      "35/35 [==============================] - 0s 2ms/step - loss: 0.0453 - accuracy: 0.9976 - precision: 0.9976 - recall: 0.9976 - val_loss: 0.3267 - val_accuracy: 0.8833 - val_precision: 0.8883 - val_recall: 0.8833\n",
      "Epoch 28/200\n",
      "35/35 [==============================] - 0s 2ms/step - loss: 0.0410 - accuracy: 0.9952 - precision: 0.9952 - recall: 0.9929 - val_loss: 0.2984 - val_accuracy: 0.9111 - val_precision: 0.9153 - val_recall: 0.9000\n",
      "Epoch 29/200\n",
      "35/35 [==============================] - 0s 2ms/step - loss: 0.0396 - accuracy: 0.9929 - precision: 0.9976 - recall: 0.9929 - val_loss: 0.3219 - val_accuracy: 0.8944 - val_precision: 0.8994 - val_recall: 0.8944\n",
      "Epoch 30/200\n",
      "35/35 [==============================] - 0s 2ms/step - loss: 0.0440 - accuracy: 0.9952 - precision: 0.9952 - recall: 0.9929 - val_loss: 0.3522 - val_accuracy: 0.8889 - val_precision: 0.8933 - val_recall: 0.8833\n",
      "Epoch 31/200\n",
      "35/35 [==============================] - 0s 2ms/step - loss: 0.0401 - accuracy: 0.9929 - precision: 0.9929 - recall: 0.9929 - val_loss: 0.3106 - val_accuracy: 0.9111 - val_precision: 0.9106 - val_recall: 0.9056\n",
      "Epoch 32/200\n",
      "35/35 [==============================] - 0s 2ms/step - loss: 0.0326 - accuracy: 0.9976 - precision: 1.0000 - recall: 0.9929 - val_loss: 0.3583 - val_accuracy: 0.9000 - val_precision: 0.9000 - val_recall: 0.9000\n",
      "Epoch 33/200\n",
      "35/35 [==============================] - 0s 2ms/step - loss: 0.0263 - accuracy: 0.9976 - precision: 1.0000 - recall: 0.9952 - val_loss: 0.2980 - val_accuracy: 0.9167 - val_precision: 0.9218 - val_recall: 0.9167\n",
      "Epoch 34/200\n",
      "35/35 [==============================] - 0s 2ms/step - loss: 0.0237 - accuracy: 1.0000 - precision: 1.0000 - recall: 1.0000 - val_loss: 0.3288 - val_accuracy: 0.9167 - val_precision: 0.9213 - val_recall: 0.9111\n",
      "Epoch 35/200\n",
      "35/35 [==============================] - 0s 2ms/step - loss: 0.0206 - accuracy: 1.0000 - precision: 1.0000 - recall: 1.0000 - val_loss: 0.3089 - val_accuracy: 0.9222 - val_precision: 0.9274 - val_recall: 0.9222\n",
      "Epoch 36/200\n",
      "35/35 [==============================] - 0s 2ms/step - loss: 0.0164 - accuracy: 1.0000 - precision: 1.0000 - recall: 1.0000 - val_loss: 0.3431 - val_accuracy: 0.9167 - val_precision: 0.9162 - val_recall: 0.9111\n",
      "Epoch 37/200\n",
      "35/35 [==============================] - 0s 2ms/step - loss: 0.0155 - accuracy: 1.0000 - precision: 1.0000 - recall: 1.0000 - val_loss: 0.4079 - val_accuracy: 0.9111 - val_precision: 0.9111 - val_recall: 0.9111\n",
      "Epoch 38/200\n",
      "35/35 [==============================] - 0s 2ms/step - loss: 0.0167 - accuracy: 1.0000 - precision: 1.0000 - recall: 1.0000 - val_loss: 0.3165 - val_accuracy: 0.9222 - val_precision: 0.9274 - val_recall: 0.9222\n",
      "Epoch 39/200\n",
      "35/35 [==============================] - 0s 2ms/step - loss: 0.0135 - accuracy: 1.0000 - precision: 1.0000 - recall: 1.0000 - val_loss: 0.3674 - val_accuracy: 0.9056 - val_precision: 0.9056 - val_recall: 0.9056\n",
      "Epoch 40/200\n",
      "35/35 [==============================] - 0s 2ms/step - loss: 0.0127 - accuracy: 1.0000 - precision: 1.0000 - recall: 1.0000 - val_loss: 0.3806 - val_accuracy: 0.9111 - val_precision: 0.9111 - val_recall: 0.9111\n",
      "Epoch 41/200\n",
      "35/35 [==============================] - 0s 2ms/step - loss: 0.0118 - accuracy: 1.0000 - precision: 1.0000 - recall: 1.0000 - val_loss: 0.3334 - val_accuracy: 0.9111 - val_precision: 0.9162 - val_recall: 0.9111\n",
      "Epoch 42/200\n",
      "35/35 [==============================] - 0s 2ms/step - loss: 0.0131 - accuracy: 1.0000 - precision: 1.0000 - recall: 1.0000 - val_loss: 0.3075 - val_accuracy: 0.9278 - val_precision: 0.9326 - val_recall: 0.9222\n",
      "Epoch 43/200\n",
      "35/35 [==============================] - 0s 2ms/step - loss: 0.0148 - accuracy: 1.0000 - precision: 1.0000 - recall: 1.0000 - val_loss: 0.3365 - val_accuracy: 0.9222 - val_precision: 0.9218 - val_recall: 0.9167\n",
      "Epoch 44/200\n",
      "35/35 [==============================] - 0s 2ms/step - loss: 0.0090 - accuracy: 1.0000 - precision: 1.0000 - recall: 1.0000 - val_loss: 0.3950 - val_accuracy: 0.8944 - val_precision: 0.8994 - val_recall: 0.8944\n",
      "Epoch 45/200\n",
      "35/35 [==============================] - 0s 2ms/step - loss: 0.0096 - accuracy: 1.0000 - precision: 1.0000 - recall: 1.0000 - val_loss: 0.3947 - val_accuracy: 0.9111 - val_precision: 0.9162 - val_recall: 0.9111\n",
      "Epoch 46/200\n",
      "35/35 [==============================] - 0s 2ms/step - loss: 0.0125 - accuracy: 1.0000 - precision: 1.0000 - recall: 1.0000 - val_loss: 0.3529 - val_accuracy: 0.9167 - val_precision: 0.9167 - val_recall: 0.9167\n",
      "Epoch 47/200\n",
      "35/35 [==============================] - 0s 2ms/step - loss: 0.0113 - accuracy: 1.0000 - precision: 1.0000 - recall: 1.0000 - val_loss: 0.3622 - val_accuracy: 0.9278 - val_precision: 0.9330 - val_recall: 0.9278\n",
      "Epoch 48/200\n",
      "35/35 [==============================] - 0s 2ms/step - loss: 0.0073 - accuracy: 1.0000 - precision: 1.0000 - recall: 1.0000 - val_loss: 0.3797 - val_accuracy: 0.9222 - val_precision: 0.9222 - val_recall: 0.9222\n"
     ]
    },
    {
     "data": {
      "text/plain": [
       "<keras.src.callbacks.History at 0x20faa868990>"
      ]
     },
     "execution_count": 65,
     "metadata": {},
     "output_type": "execute_result"
    }
   ],
   "source": [
    "early_stopping = EarlyStopping(monitor='val_loss',patience=15)\n",
    "# Train the model\n",
    "model.fit(x_train, y_train_encoded, validation_data=(x_test, y_test_encoded), epochs=200, batch_size=12, callbacks=[early_stopping])"
   ]
  },
  {
   "cell_type": "code",
   "execution_count": 66,
   "metadata": {},
   "outputs": [
    {
     "name": "stdout",
     "output_type": "stream",
     "text": [
      "6/6 [==============================] - 0s 1ms/step - loss: 0.3797 - accuracy: 0.9222 - precision: 0.9222 - recall: 0.9222\n",
      "Accuracy: 92.22\n",
      "Precision: 92.22\n",
      "Recall: 92.22\n",
      "Loss: 0.38\n"
     ]
    }
   ],
   "source": [
    "# Evaluate the model\n",
    "loss, accuracy, precision, recall = model.evaluate(x_test, y_test_encoded)\n",
    "print('Accuracy: %.2f' % (accuracy*100))\n",
    "print('Precision: %.2f' % (precision*100))\n",
    "print('Recall: %.2f' % (recall*100))\n",
    "print('Loss: %.2f' % loss)"
   ]
  }
 ],
 "metadata": {
  "kernelspec": {
   "display_name": "Python 3",
   "language": "python",
   "name": "python3"
  },
  "language_info": {
   "codemirror_mode": {
    "name": "ipython",
    "version": 3
   },
   "file_extension": ".py",
   "mimetype": "text/x-python",
   "name": "python",
   "nbconvert_exporter": "python",
   "pygments_lexer": "ipython3",
   "version": "3.11.4"
  }
 },
 "nbformat": 4,
 "nbformat_minor": 2
}
